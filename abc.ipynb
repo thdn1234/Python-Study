{
 "cells": [
  {
   "cell_type": "code",
   "execution_count": 27,
   "metadata": {},
   "outputs": [],
   "source": [
    "import pandas as pd\n",
    "\n",
    "list_a = [\"あ\",\"い\",\"う\",\"え\",\"を\"]\n",
    "\n",
    "\n"
   ]
  },
  {
   "cell_type": "code",
   "execution_count": 26,
   "metadata": {},
   "outputs": [
    {
     "name": "stdout",
     "output_type": "stream",
     "text": [
      "['を', 'え', 'う', 'い', 'あ']\n"
     ]
    }
   ],
   "source": [
    "list_a.sort(reverse=True)\n",
    "print(list_a)"
   ]
  },
  {
   "cell_type": "code",
   "execution_count": 8,
   "metadata": {},
   "outputs": [
    {
     "name": "stdout",
     "output_type": "stream",
     "text": [
      "<built-in method reverse of list object at 0x1308e5bc0>\n",
      "['e', 'd', 'c', 'b', 'a']\n"
     ]
    }
   ],
   "source": [
    "print(list_a.reverse)\n",
    "new_list = list(reversed(list_a))\n",
    "print(new_list)"
   ]
  },
  {
   "cell_type": "code",
   "execution_count": 9,
   "metadata": {},
   "outputs": [
    {
     "name": "stdout",
     "output_type": "stream",
     "text": [
      "['e', 'd', 'c', 'b', 'a']\n"
     ]
    }
   ],
   "source": [
    "print(list_a[::-1])\n"
   ]
  },
  {
   "cell_type": "code",
   "execution_count": 10,
   "metadata": {},
   "outputs": [
    {
     "name": "stdout",
     "output_type": "stream",
     "text": [
      "edcba\n"
     ]
    }
   ],
   "source": [
    "aa = \"\".join(list_a[::-1])\n",
    "print(aa)"
   ]
  },
  {
   "cell_type": "code",
   "execution_count": 28,
   "metadata": {},
   "outputs": [
    {
     "name": "stdout",
     "output_type": "stream",
     "text": [
      "あ\n",
      "い\n",
      "う\n",
      "え\n",
      "を\n"
     ]
    }
   ],
   "source": [
    "list_reverse = []\n",
    "for i in list_a:\n",
    "    print(i)\n",
    "    list_reverse.append(i)\n"
   ]
  },
  {
   "cell_type": "code",
   "execution_count": 22,
   "metadata": {},
   "outputs": [
    {
     "name": "stdout",
     "output_type": "stream",
     "text": [
      "['e', 'd', 'c', 'b', 'a']\n"
     ]
    }
   ],
   "source": [
    "list_reverse.sort(reverse=True)\n",
    "print(list_reverse)\n"
   ]
  },
  {
   "cell_type": "code",
   "execution_count": 53,
   "metadata": {},
   "outputs": [
    {
     "name": "stdout",
     "output_type": "stream",
     "text": [
      "['を', 'え', 'う', 'い', 'あ']\n"
     ]
    }
   ],
   "source": [
    "\n",
    "ll = []\n",
    "for i in range(len(list_a)):\n",
    "    ll.append(list_a[len(list_a)-i-1])\n",
    "print(ll)    \n",
    "\n"
   ]
  },
  {
   "cell_type": "code",
   "execution_count": 80,
   "metadata": {},
   "outputs": [],
   "source": [
    "s = \"hireroo\"\n",
    "p = \"h*r*o.\""
   ]
  },
  {
   "cell_type": "code",
   "execution_count": 88,
   "metadata": {},
   "outputs": [],
   "source": [
    "s=\"abcccd\"\n",
    "p=\"abc*d\""
   ]
  },
  {
   "cell_type": "code",
   "execution_count": 89,
   "metadata": {},
   "outputs": [],
   "source": [
    "s_list = [i for i in s]\n",
    "p_list = [i for i in p]"
   ]
  },
  {
   "cell_type": "code",
   "execution_count": 91,
   "metadata": {},
   "outputs": [
    {
     "name": "stdout",
     "output_type": "stream",
     "text": [
      "icchi\n",
      "icchi\n",
      "icchi\n",
      "2\n",
      "c\n",
      "huicchi\n",
      "huicchi\n",
      "false\n"
     ]
    }
   ],
   "source": [
    "if s == p:\n",
    "    print(\"true\") \n",
    "elif len(p) == 2 and p == \".*\":\n",
    "    print(\"true\")\n",
    "else:\n",
    "    for index,i in enumerate(p_list):\n",
    "        if i == s[index]:\n",
    "            print(\"icchi\")\n",
    "        else:\n",
    "            if i == \"*\":\n",
    "                print(\"huicchi\")\n",
    "                p_index = index - 1\n",
    "                print(p_index)\n",
    "                print(p_list[p_index])\n",
    "\n",
    "            \n",
    "\n",
    "        \n",
    "            \n",
    "    print(\"false\")\n"
   ]
  },
  {
   "cell_type": "code",
   "execution_count": 79,
   "metadata": {},
   "outputs": [
    {
     "name": "stdout",
     "output_type": "stream",
     "text": [
      "0\n",
      "h\n",
      "2\n",
      "r\n",
      "不一致 false\n"
     ]
    }
   ],
   "source": [
    "# if s == p:\n",
    "#     print(\"一致　true\")\n",
    "#     return True\n",
    "\n",
    "for index,i in enumerate(p_list):\n",
    "    if i == \"*\":\n",
    "        s_index = index - 1\n",
    "        print(s_index)\n",
    "        print(s_list[s_index])       \n",
    "print(\"不一致 false\")"
   ]
  },
  {
   "cell_type": "code",
   "execution_count": 227,
   "metadata": {},
   "outputs": [],
   "source": [
    "s=\"abcccd\"\n",
    "p=\"a.*d\"\n",
    "s_list = [i for i in s]\n",
    "p_list = [i for i in p]"
   ]
  },
  {
   "cell_type": "code",
   "execution_count": 228,
   "metadata": {},
   "outputs": [
    {
     "name": "stdout",
     "output_type": "stream",
     "text": [
      "a\n",
      "b\n",
      ".\n",
      ".\n",
      ".\n",
      ".\n",
      "True\n"
     ]
    }
   ],
   "source": [
    "p_in = 0\n",
    "bool_flag = True\n",
    "for index,i in enumerate(s_list):\n",
    "    # print(f\"index : {index}\")\n",
    "    # print(f\"p_in : {p_in}\")\n",
    "    if i == p_list[p_in]:\n",
    "        print(p_list[p_in])\n",
    "        # print(\"1111\")\n",
    "        p_in += 1\n",
    "    elif i != p_list[p_in] and p_list[p_in] == \"*\":\n",
    "        \n",
    "        if p_list[p_in-1] == i or p_list[p_in-1]==\".\":\n",
    "            # print(\"222\")\n",
    "            print(p_list[p_in-1])\n",
    "        elif p_list[p_in+1] == i:\n",
    "            print(p_list[p_in+1])\n",
    "            # print(\"333\")\n",
    "        else:\n",
    "            # print(\"False1\")\n",
    "            bool_flag = False\n",
    "\n",
    "    elif p_list[p_in] == \".\":\n",
    "        # print(i)\n",
    "        p_in +=1\n",
    "        # print(\"4444\")\n",
    "    else:\n",
    "        # print(\"False2\")\n",
    "        bool_flag = False\n",
    "print(bool_flag)\n"
   ]
  },
  {
   "cell_type": "code",
   "execution_count": null,
   "metadata": {},
   "outputs": [],
   "source": []
  },
  {
   "cell_type": "code",
   "execution_count": null,
   "metadata": {},
   "outputs": [],
   "source": []
  },
  {
   "cell_type": "code",
   "execution_count": null,
   "metadata": {},
   "outputs": [],
   "source": []
  },
  {
   "cell_type": "code",
   "execution_count": null,
   "metadata": {},
   "outputs": [],
   "source": []
  },
  {
   "cell_type": "code",
   "execution_count": null,
   "metadata": {},
   "outputs": [],
   "source": []
  },
  {
   "cell_type": "code",
   "execution_count": null,
   "metadata": {},
   "outputs": [],
   "source": []
  },
  {
   "cell_type": "code",
   "execution_count": null,
   "metadata": {},
   "outputs": [],
   "source": []
  },
  {
   "cell_type": "code",
   "execution_count": null,
   "metadata": {},
   "outputs": [],
   "source": []
  },
  {
   "cell_type": "code",
   "execution_count": null,
   "metadata": {},
   "outputs": [],
   "source": []
  },
  {
   "cell_type": "code",
   "execution_count": null,
   "metadata": {},
   "outputs": [],
   "source": []
  },
  {
   "cell_type": "code",
   "execution_count": null,
   "metadata": {},
   "outputs": [],
   "source": []
  },
  {
   "cell_type": "code",
   "execution_count": null,
   "metadata": {},
   "outputs": [],
   "source": []
  },
  {
   "cell_type": "code",
   "execution_count": null,
   "metadata": {},
   "outputs": [],
   "source": []
  },
  {
   "cell_type": "code",
   "execution_count": null,
   "metadata": {},
   "outputs": [],
   "source": []
  },
  {
   "cell_type": "code",
   "execution_count": null,
   "metadata": {},
   "outputs": [],
   "source": []
  },
  {
   "cell_type": "code",
   "execution_count": null,
   "metadata": {},
   "outputs": [],
   "source": []
  },
  {
   "cell_type": "code",
   "execution_count": null,
   "metadata": {},
   "outputs": [],
   "source": []
  },
  {
   "cell_type": "code",
   "execution_count": null,
   "metadata": {},
   "outputs": [],
   "source": []
  },
  {
   "cell_type": "code",
   "execution_count": null,
   "metadata": {},
   "outputs": [],
   "source": []
  },
  {
   "cell_type": "code",
   "execution_count": null,
   "metadata": {},
   "outputs": [],
   "source": []
  },
  {
   "cell_type": "code",
   "execution_count": null,
   "metadata": {},
   "outputs": [],
   "source": []
  },
  {
   "cell_type": "code",
   "execution_count": null,
   "metadata": {},
   "outputs": [],
   "source": []
  },
  {
   "cell_type": "code",
   "execution_count": null,
   "metadata": {},
   "outputs": [],
   "source": []
  },
  {
   "cell_type": "code",
   "execution_count": null,
   "metadata": {},
   "outputs": [],
   "source": []
  },
  {
   "cell_type": "code",
   "execution_count": null,
   "metadata": {},
   "outputs": [],
   "source": [
    "\n"
   ]
  }
 ],
 "metadata": {
  "kernelspec": {
   "display_name": "Python 3.9.12 64-bit ('base')",
   "language": "python",
   "name": "python3"
  },
  "language_info": {
   "codemirror_mode": {
    "name": "ipython",
    "version": 3
   },
   "file_extension": ".py",
   "mimetype": "text/x-python",
   "name": "python",
   "nbconvert_exporter": "python",
   "pygments_lexer": "ipython3",
   "version": "3.9.12"
  },
  "orig_nbformat": 4,
  "vscode": {
   "interpreter": {
    "hash": "a72eacf9f58618fa3fd0161123231ffad86e8d61ac61b49ec5f366ab5b897e7a"
   }
  }
 },
 "nbformat": 4,
 "nbformat_minor": 2
}
